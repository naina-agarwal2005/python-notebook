{
 "cells": [
  {
   "cell_type": "code",
   "execution_count": 34,
   "id": "c5e363d6-699d-4a0d-bd4e-9e9f872048f3",
   "metadata": {},
   "outputs": [],
   "source": [
    "## Numpy uses cpp and c bindings so it is important as the operations become fast. \n",
    "## it provides operations for arrays\n",
    "import numpy as np"
   ]
  },
  {
   "cell_type": "code",
   "execution_count": 2,
   "id": "50e27f89-54ac-40aa-b055-f88fcd2374ff",
   "metadata": {},
   "outputs": [],
   "source": [
    "l=[1,2,3,4,5]\n",
    "arr=np.array(l)"
   ]
  },
  {
   "cell_type": "code",
   "execution_count": 3,
   "id": "b47aeaa9-03e0-446b-862d-856b51ec66fa",
   "metadata": {},
   "outputs": [
    {
     "data": {
      "text/plain": [
       "array([1, 2, 3, 4, 5])"
      ]
     },
     "execution_count": 3,
     "metadata": {},
     "output_type": "execute_result"
    }
   ],
   "source": [
    "arr"
   ]
  },
  {
   "cell_type": "code",
   "execution_count": 4,
   "id": "bf029ff7-9119-4373-8dc9-bb422cce4309",
   "metadata": {},
   "outputs": [
    {
     "data": {
      "text/plain": [
       "(5,)"
      ]
     },
     "execution_count": 4,
     "metadata": {},
     "output_type": "execute_result"
    }
   ],
   "source": [
    "arr.shape \n",
    "## gives number of elements and since it is 1d so there is comma"
   ]
  },
  {
   "cell_type": "code",
   "execution_count": 21,
   "id": "6b12d61f-ba3f-4d4e-915d-ed24c107d8d7",
   "metadata": {},
   "outputs": [],
   "source": [
    "l1=[1,2,2]\n",
    "l2=[1,2,1]\n",
    "l3=[1,2,20]\n",
    "l4=[1,2,21]\n",
    "arr=np.array([l1,l2,l3,l4])"
   ]
  },
  {
   "cell_type": "code",
   "execution_count": 22,
   "id": "a9cf0452-55ce-44a5-88fb-bb584b839e20",
   "metadata": {},
   "outputs": [
    {
     "data": {
      "text/plain": [
       "(4, 3)"
      ]
     },
     "execution_count": 22,
     "metadata": {},
     "output_type": "execute_result"
    }
   ],
   "source": [
    "arr.shape"
   ]
  },
  {
   "cell_type": "code",
   "execution_count": 23,
   "id": "35faacb7-f292-4015-8581-2c852e6275f8",
   "metadata": {},
   "outputs": [
    {
     "data": {
      "text/plain": [
       "array([[ 1,  2,  2,  1],\n",
       "       [ 2,  1,  1,  2],\n",
       "       [20,  1,  2, 21]])"
      ]
     },
     "execution_count": 23,
     "metadata": {},
     "output_type": "execute_result"
    }
   ],
   "source": [
    "arr.reshape(3,4)\n",
    "## it will give a value error if we give different values like (4,4)"
   ]
  },
  {
   "cell_type": "code",
   "execution_count": 26,
   "id": "a6212f3e-1b11-41a7-bb54-bd4424342b21",
   "metadata": {},
   "outputs": [
    {
     "data": {
      "text/plain": [
       "array([[ 2,  1],\n",
       "       [ 2, 20],\n",
       "       [ 2, 21]])"
      ]
     },
     "execution_count": 26,
     "metadata": {},
     "output_type": "execute_result"
    }
   ],
   "source": [
    "arr[1:,1:]  ## indexing in array (row,column)"
   ]
  },
  {
   "cell_type": "code",
   "execution_count": 29,
   "id": "b1a33c7b-0011-4f38-9b6d-d09b8ef13e1e",
   "metadata": {},
   "outputs": [
    {
     "data": {
      "text/plain": [
       "array([0, 2, 4, 6, 8])"
      ]
     },
     "execution_count": 29,
     "metadata": {},
     "output_type": "execute_result"
    }
   ],
   "source": [
    "##inbuilt functions\n",
    "arr=np.arange(0,10,step=2)  ##just like range function of python\n",
    "arr"
   ]
  },
  {
   "cell_type": "code",
   "execution_count": 30,
   "id": "2aa03aa5-5627-4339-847a-5d63db8db2c9",
   "metadata": {},
   "outputs": [
    {
     "data": {
      "text/plain": [
       "array([ 1.        ,  1.47368421,  1.94736842,  2.42105263,  2.89473684,\n",
       "        3.36842105,  3.84210526,  4.31578947,  4.78947368,  5.26315789,\n",
       "        5.73684211,  6.21052632,  6.68421053,  7.15789474,  7.63157895,\n",
       "        8.10526316,  8.57894737,  9.05263158,  9.52631579, 10.        ])"
      ]
     },
     "execution_count": 30,
     "metadata": {},
     "output_type": "execute_result"
    }
   ],
   "source": [
    "np.linspace(1,10,20)  ##for equally spaced values SYNTAX: np.linspace(start,stop,number of points)"
   ]
  },
  {
   "cell_type": "code",
   "execution_count": 38,
   "id": "a8959105-fa65-46c3-87e2-36223e52b3bf",
   "metadata": {},
   "outputs": [
    {
     "data": {
      "text/plain": [
       "array([ 1,  2, 20, 20, 20, 20, 20])"
      ]
     },
     "execution_count": 38,
     "metadata": {},
     "output_type": "execute_result"
    }
   ],
   "source": [
    "##copy function and broadcasting\n",
    "l1=[1,2,3,3,4,5,6]\n",
    "a1=np.array(l1)\n",
    "a1[2:]=20\n",
    "a1"
   ]
  },
  {
   "cell_type": "code",
   "execution_count": 39,
   "id": "cd88b520-1305-4169-a38a-673a3dc3f1c1",
   "metadata": {},
   "outputs": [
    {
     "data": {
      "text/plain": [
       "array([10, 10, 10, 10, 10, 10, 10])"
      ]
     },
     "execution_count": 39,
     "metadata": {},
     "output_type": "execute_result"
    }
   ],
   "source": [
    "arr1=a1\n",
    "arr1[:]=10\n",
    "arr1"
   ]
  },
  {
   "cell_type": "code",
   "execution_count": 44,
   "id": "5a039e95-cbb8-4c8b-82f2-37d8f489d3c1",
   "metadata": {},
   "outputs": [
    {
     "data": {
      "text/plain": [
       "array([10, 10, 10, 10, 10, 10, 10])"
      ]
     },
     "execution_count": 44,
     "metadata": {},
     "output_type": "execute_result"
    }
   ],
   "source": [
    "a1 ## a1 also changes with arr1 (reference type) to prevent this we have copy()\n",
    "arr1=a1.copy()\n",
    "arr1[:]=20\n",
    "a1\n"
   ]
  },
  {
   "cell_type": "code",
   "execution_count": 45,
   "id": "90b20344-eeff-4595-af2a-5dc69578f340",
   "metadata": {},
   "outputs": [
    {
     "data": {
      "text/plain": [
       "array([ True, False, False, False, False, False, False])"
      ]
     },
     "execution_count": 45,
     "metadata": {},
     "output_type": "execute_result"
    }
   ],
   "source": [
    "## conditions useful in Explanatory data analysis\n",
    "l1=[1,2,3,3,4,5,6]\n",
    "arr=np.array(l1)\n",
    "val=2\n",
    "arr<2"
   ]
  },
  {
   "cell_type": "code",
   "execution_count": 46,
   "id": "60005072-7027-4503-9e8d-89de9055b01d",
   "metadata": {},
   "outputs": [
    {
     "data": {
      "text/plain": [
       "array([1])"
      ]
     },
     "execution_count": 46,
     "metadata": {},
     "output_type": "execute_result"
    }
   ],
   "source": [
    "## if i want elements less than 2 then we can write it inside square braces\n",
    "arr[arr<2]"
   ]
  },
  {
   "cell_type": "code",
   "execution_count": 47,
   "id": "fef3869b-0166-4535-9e35-b4f4259a4642",
   "metadata": {},
   "outputs": [
    {
     "data": {
      "text/plain": [
       "array([[1, 1, 1, 1, 1],\n",
       "       [1, 1, 1, 1, 1]])"
      ]
     },
     "execution_count": 47,
     "metadata": {},
     "output_type": "execute_result"
    }
   ],
   "source": [
    "## it converts elements to 1 SYNTAX: np.ones(no. of elements, dtype) dtype is float by default\n",
    "np.ones((2,5),dtype=int)"
   ]
  },
  {
   "cell_type": "code",
   "execution_count": 48,
   "id": "f407550f-731f-4b8b-b02c-bc3938a2e700",
   "metadata": {},
   "outputs": [
    {
     "data": {
      "text/plain": [
       "array([[0.29616614, 0.06876449, 0.66914345],\n",
       "       [0.93543287, 0.98322426, 0.50995089],\n",
       "       [0.29387657, 0.64682437, 0.52538254]])"
      ]
     },
     "execution_count": 48,
     "metadata": {},
     "output_type": "execute_result"
    }
   ],
   "source": [
    "np.random.rand(3,3) ## this will create a matrix of the given size and the elements will be random values between [0,1)\n"
   ]
  },
  {
   "cell_type": "code",
   "execution_count": 51,
   "id": "a87e272a-6d7d-46db-afd2-f988b7260ecf",
   "metadata": {},
   "outputs": [
    {
     "data": {
      "text/plain": [
       "array([[ 7, 91, 45,  2],\n",
       "       [59,  0, 29, 50]])"
      ]
     },
     "execution_count": 51,
     "metadata": {},
     "output_type": "execute_result"
    }
   ],
   "source": [
    "np.random.randint(0,100,8) ##between 0 to 100 any 8 random integers\n",
    "## we can also create a matrix by passing reshape ()\n",
    "np.random.randint(0,100,8).reshape(2,4)"
   ]
  },
  {
   "cell_type": "code",
   "execution_count": 50,
   "id": "2d523355-c585-4ed9-8b73-eace1015feed",
   "metadata": {},
   "outputs": [
    {
     "data": {
      "text/plain": [
       "array([[0.10991179, 0.3499987 , 0.58546789, 0.45019441, 0.20722601]])"
      ]
     },
     "execution_count": 50,
     "metadata": {},
     "output_type": "execute_result"
    }
   ],
   "source": [
    "np.random.random_sample((1,5)) ## returns random floats [0,1)"
   ]
  },
  {
   "cell_type": "code",
   "execution_count": null,
   "id": "c74d9662-847c-4f8e-a9fd-378f97a5782f",
   "metadata": {},
   "outputs": [],
   "source": []
  },
  {
   "cell_type": "code",
   "execution_count": null,
   "id": "ffed9558-27b9-4c07-91ec-a5abe68df2d8",
   "metadata": {},
   "outputs": [],
   "source": []
  }
 ],
 "metadata": {
  "kernelspec": {
   "display_name": "Python [conda env:base] *",
   "language": "python",
   "name": "conda-base-py"
  },
  "language_info": {
   "codemirror_mode": {
    "name": "ipython",
    "version": 3
   },
   "file_extension": ".py",
   "mimetype": "text/x-python",
   "name": "python",
   "nbconvert_exporter": "python",
   "pygments_lexer": "ipython3",
   "version": "3.12.7"
  }
 },
 "nbformat": 4,
 "nbformat_minor": 5
}
